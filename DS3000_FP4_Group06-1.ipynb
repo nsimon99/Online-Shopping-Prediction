{
 "cells": [
  {
   "cell_type": "markdown",
   "metadata": {
    "id": "RPzzl5JYmMo7"
   },
   "source": [
    "<center> <h2> DS 3000 - Summer 2021</h2> </center>\n",
    "<center> <h3> DS Report </h3> </center>\n"
   ]
  },
  {
   "cell_type": "markdown",
   "metadata": {
    "id": "pr0NnaHmmMo8"
   },
   "source": [
    "<center> <h3> Online Shopping Prediction</h3> </center>\n",
    "<center><h4>Rida Sharief, Neha Simon, Lucy Marnell</h4></center>\n"
   ]
  },
  {
   "cell_type": "markdown",
   "metadata": {
    "id": "i7N2Sw6XmMo-"
   },
   "source": [
    "<hr style=\"height:2px; border:none; color:black; background-color:black;\">"
   ]
  },
  {
   "cell_type": "markdown",
   "metadata": {
    "id": "U9QMIjT9mMo_"
   },
   "source": [
    "## **Executive Summary**:\n",
    "\n",
    "Given today’s digital state, it is no surprise that there has been an increase in e-commerce operations. Additionally, after COVID-19, shoppers have become increasingly accustomed to the benefits of being able to browse and make purchases from the comfort and safety of their own homes. Thus, businesses must adapt to this computerized system.\n",
    "\n",
    "Our goal was to build a classification model that predicts whether a user will purchase something off an online site given a range of features that characterize their actions. We implemented the K-Nearest neighbor, Support Vector Machine, and Gaussian Naive Bayes classification algorithms, used iterative feature selection to choose the most important features, and Grid Search to tune our parameters of the best performing algorithms.\n",
    "\n",
    "Our dataset consisted of 17 feature variable columns detailing a user's visit to an e-commerce site and our target variable represented whether that user provided revenue from the site.\n",
    "\n",
    "Before starting on our analysis, we standardized our data and employed downsampling due to the original imbalance in the dataset. We created various visualizations such as a heat map and bar graph to see the correlation between select features and the target variable.\n",
    "\n",
    "---\n",
    "\n"
   ]
  },
  {
   "cell_type": "markdown",
   "metadata": {
    "id": "to7VXKNymMpA"
   },
   "source": [
    "<hr style=\"height:2px; border:none; color:black; background-color:black;\">"
   ]
  },
  {
   "cell_type": "markdown",
   "metadata": {
    "id": "iMbM2NKamMpB"
   },
   "source": [
    "## Outline\n",
    "1. <a href='#1'>INTRODUCTION</a>\n",
    "2. <a href='#2'>METHOD</a>\n",
    "3. <a href='#3'>RESULTS</a>\n",
    "4. <a href='#4'>DISCUSSION</a>"
   ]
  },
  {
   "cell_type": "markdown",
   "metadata": {
    "id": "nfrX_rtHmMpC"
   },
   "source": [
    "<a id=\"1\"></a>\n",
    "<hr style=\"height:2px; border:none; color:black; background-color:black;\">"
   ]
  },
  {
   "cell_type": "markdown",
   "metadata": {
    "id": "k2HgRL2NmMpC"
   },
   "source": [
    "## **1. INTRODUCTION**"
   ]
  },
  {
   "cell_type": "markdown",
   "metadata": {
    "id": "IgUfEjuUmMpD"
   },
   "source": [
    "**Problem Statement**\n",
    "\n",
    "We have decided to explore a classification problem under the topic of E-commerce success indicators. More specifically, we are training a model to predict whether a user on an E-commerce site will purchase off the site, represented as true or false in our data, for an online shopping service based on the various related feature column values. Based on the support of data analysis, we want to learn what factors are most indicative of a website user’s intention to actually make a purchase rather than just browsing.\n",
    "\n",
    "\n",
    "**Significance of the Problem**\n",
    "\n",
    "Due to the increasing proportion of companies' sales and revenue e-commerce accounts for, it is important for these companies to understand what makes a user more likely to be a source of revenue for a company. Insights from this project could be used to better understand which individuals will be customers vs. just visitors of their website and therefore businesses can use this information to efficiently use their resources when it comes to advertising and other marketing efforts, as well as optimization of their e-commerce platform's structure.\n",
    "\n",
    "\n",
    "**Previous Work on the Topic**\n",
    "\n",
    "The first report came from a 2018 master's thesis from the University of Twente (Netherlands) (Seippel 2018) which studied the application of machine learning to a similar online shopping dataset from a German clothing company. The dataset collected many attributes for each website visitor, including session-specific data like the day, time spent on a page, price in shopping cart, etc. and user-specific data about past shopping history like number of past orders, length of time as a customer, etc. ML algorithms including random forest, boosted tree, support vector machine, neural network, and logistic regression methods were applied to predict whether a customer will make a purchase based on these features. Results showed that the random forest algorithm had the best performance based on accuracy, efficiency, resiliency and understandibility. The SVM algorithm performs with very low accuracy for some subsets of the data, but this is thought to be caused by imbalanced data in these cases. When trained on balanced data, the algorithm performs significantly better. \n",
    "\n",
    "The second report we looked at used the same dataset as ours (Sakar et al, 2019). The researchers conducted shopper behavior analysis system in order to predict purchase intent. By focusing on a user's pageview, session, and user information, they constructed a classification algorithm using random forest, support vector machines, which we will also employ, and multilayer perceptron classifiers. Whereas we plan on using downsampling, they used oversampling. They also used feature selection as we will. The results show that MLP calculated using resilient backpropagation algorithm with weight backtracking produces a significantly higher accuracy and F1 Score than RF and SVM, meaning that using SVM as a classifier may not produce the strongest classifier possible. They also found that the accuracy of the classifier is highest when clickstream data obtained from the navigation path followed during the online visit is combined with session information-based features, so we should try to have a balance of those features in our model. \n",
    "\n",
    "**References:**\n",
    "Seippel H. S. (2018). Customer purchase prediction through machine learning(Publication No. 196122994) [Master’s thesis, University of Twente]. Semantic Scholar.\n",
    "\n",
    "Sakar, C.O., Polat, S.O., Katircioglu, M. et al. Real-time prediction of online shoppers’ purchasing intention using multilayer perceptron and LSTM recurrent neural networks. Neural Comput & Applic 31, 6893–6908 (2019). https://doi.org/10.1007/s00521-018-3523-0\n",
    "\n",
    "**Questions**\n",
    "        \n",
    "Based on the problem we have decided to focus on and the data analysis techniques we plan to implement, we would like to answer the following questions:\n",
    "\n",
    "1. Will reducing the number of features produce better predictions than using all 17 of the original feature columns?\n",
    "2. Which feature(s) are the most informative for the classification algorithm? In other words, what is the biggest indicator that a user will purchase something off a site?\n",
    "3. Will there be a significant differance in the accuracy of the three chosen classification algorithms?\n",
    "4. Which classification machine learning algorithm is the most accurate in predicting whether a website user makes a purchase?"
   ]
  },
  {
   "cell_type": "markdown",
   "metadata": {
    "id": "kNFc_OzYmMpF"
   },
   "source": [
    "<a id=\"2\"></a>\n",
    "<hr style=\"height:2px; border:none; color:black; background-color:black;\">"
   ]
  },
  {
   "cell_type": "markdown",
   "metadata": {
    "id": "atzb7ZHOmMpG"
   },
   "source": [
    "## **2. METHOD**"
   ]
  },
  {
   "cell_type": "markdown",
   "metadata": {
    "id": "boNbIBQzmMpH"
   },
   "source": [
    "## **2.1. Data Acquisition**\n",
    "\n",
    "The dataset we used is titled \"Online Shoppers Intention\". It was obtained from Kaggle and is also available on the UCI machine learning repository. The dataset was formed so that each session would belong to a different user in a 1-year period to avoid any tendency to a specific campaign, special day, user profile, or period. Our dataset also has 12,330 samples or rows. Of these samples, 84.5% were negative class samples that did not end with revenue, and 15.5% were positive class samples. The dataset contains 17 feature variables related to a user’s visit to an e-commerce website with the outcome column being if they purchased something from the site. \n",
    "\n",
    "**Description of variables:**\n",
    "\n",
    "**Feature Variables:**\n",
    "\n",
    "- Administrative: Quantity of administrative pages that the user visited.\n",
    "- Administrative_Duration: How long the user spent on administrative pages.\n",
    "- Informational: Quantity of informational pages that the user visited.\n",
    "- Informational_Duration: How long the user spent on informational pages.\n",
    "- ProductRelated: Quantity of pages related to products that the user visited.\n",
    "- ProductRelated_Duration: How long the user spent on pages related to products.\n",
    "- BounceRates: Percentage of users who enter and exit the site on the same page without interacting.\n",
    "- ExitRates: The percentage of page views for a specific page that result in the user exiting the site.\n",
    "- PageValues: The average value of the page averaged over the value of the target page and/or the completion of an eCommerce transaction\n",
    "- SpecialDay: The proximity of the date of this user session to a holiday, scaled to range between 0 (far from a holiday) to 1 (on a holiday).\n",
    "- Month: A String representing the month of this user session.\n",
    "- OperatingSystems: An integer representing what operating system is being used.\n",
    "- Browser: An integer representing what browser is being used.\n",
    "- Region: An integer representing what region the user is conducting this session from.\n",
    "- TrafficType: An integer used to categorize where this user is coming from (i.e. from a direct search, social media, etc.)\n",
    "- VisitorType: A string representing whether a visitor is New Visitor, Returning Visitor, or Other.\n",
    "- Weekend: A boolean representing whether the session takes place on a weekend or weekday (true = weekend, false = weekday).\n",
    "\n",
    "**Target Variable:**\n",
    "- Revenue: A boolean representing whether the user made a purchase or left the site without making a purchase (true = purchase, false = no purchase).\n",
    "\n",
    "**Data source on Kaggle:**\n",
    "\n",
    "Sue, H. (2020, January 15). Online Shoppers Intention UCI Machine Learning. Kaggle. https://www.kaggle.com/henrysue/online-shoppers-intention.\n",
    "\n",
    "\n",
    "\n",
    "\n"
   ]
  },
  {
   "cell_type": "code",
   "execution_count": null,
   "metadata": {
    "id": "yNDv0ynSpxyN"
   },
   "outputs": [],
   "source": [
    "import pandas as pd"
   ]
  },
  {
   "cell_type": "code",
   "execution_count": null,
   "metadata": {
    "colab": {
     "base_uri": "https://localhost:8080/",
     "height": 224
    },
    "id": "mVOVe6Z8p8uP",
    "outputId": "628b2e0e-4498-4401-d719-c300e942addc"
   },
   "outputs": [
    {
     "data": {
      "text/html": [
       "<div>\n",
       "<style scoped>\n",
       "    .dataframe tbody tr th:only-of-type {\n",
       "        vertical-align: middle;\n",
       "    }\n",
       "\n",
       "    .dataframe tbody tr th {\n",
       "        vertical-align: top;\n",
       "    }\n",
       "\n",
       "    .dataframe thead th {\n",
       "        text-align: right;\n",
       "    }\n",
       "</style>\n",
       "<table border=\"1\" class=\"dataframe\">\n",
       "  <thead>\n",
       "    <tr style=\"text-align: right;\">\n",
       "      <th></th>\n",
       "      <th>Administrative</th>\n",
       "      <th>Administrative_Duration</th>\n",
       "      <th>Informational</th>\n",
       "      <th>Informational_Duration</th>\n",
       "      <th>ProductRelated</th>\n",
       "      <th>ProductRelated_Duration</th>\n",
       "      <th>BounceRates</th>\n",
       "      <th>ExitRates</th>\n",
       "      <th>PageValues</th>\n",
       "      <th>SpecialDay</th>\n",
       "      <th>Month</th>\n",
       "      <th>OperatingSystems</th>\n",
       "      <th>Browser</th>\n",
       "      <th>Region</th>\n",
       "      <th>TrafficType</th>\n",
       "      <th>VisitorType</th>\n",
       "      <th>Weekend</th>\n",
       "      <th>Revenue</th>\n",
       "    </tr>\n",
       "  </thead>\n",
       "  <tbody>\n",
       "    <tr>\n",
       "      <th>0</th>\n",
       "      <td>0</td>\n",
       "      <td>0.0</td>\n",
       "      <td>0</td>\n",
       "      <td>0.0</td>\n",
       "      <td>1</td>\n",
       "      <td>0.000000</td>\n",
       "      <td>0.20</td>\n",
       "      <td>0.20</td>\n",
       "      <td>0.0</td>\n",
       "      <td>0.0</td>\n",
       "      <td>Feb</td>\n",
       "      <td>1</td>\n",
       "      <td>1</td>\n",
       "      <td>1</td>\n",
       "      <td>1</td>\n",
       "      <td>Returning_Visitor</td>\n",
       "      <td>False</td>\n",
       "      <td>False</td>\n",
       "    </tr>\n",
       "    <tr>\n",
       "      <th>1</th>\n",
       "      <td>0</td>\n",
       "      <td>0.0</td>\n",
       "      <td>0</td>\n",
       "      <td>0.0</td>\n",
       "      <td>2</td>\n",
       "      <td>64.000000</td>\n",
       "      <td>0.00</td>\n",
       "      <td>0.10</td>\n",
       "      <td>0.0</td>\n",
       "      <td>0.0</td>\n",
       "      <td>Feb</td>\n",
       "      <td>2</td>\n",
       "      <td>2</td>\n",
       "      <td>1</td>\n",
       "      <td>2</td>\n",
       "      <td>Returning_Visitor</td>\n",
       "      <td>False</td>\n",
       "      <td>False</td>\n",
       "    </tr>\n",
       "    <tr>\n",
       "      <th>2</th>\n",
       "      <td>0</td>\n",
       "      <td>0.0</td>\n",
       "      <td>0</td>\n",
       "      <td>0.0</td>\n",
       "      <td>1</td>\n",
       "      <td>0.000000</td>\n",
       "      <td>0.20</td>\n",
       "      <td>0.20</td>\n",
       "      <td>0.0</td>\n",
       "      <td>0.0</td>\n",
       "      <td>Feb</td>\n",
       "      <td>4</td>\n",
       "      <td>1</td>\n",
       "      <td>9</td>\n",
       "      <td>3</td>\n",
       "      <td>Returning_Visitor</td>\n",
       "      <td>False</td>\n",
       "      <td>False</td>\n",
       "    </tr>\n",
       "    <tr>\n",
       "      <th>3</th>\n",
       "      <td>0</td>\n",
       "      <td>0.0</td>\n",
       "      <td>0</td>\n",
       "      <td>0.0</td>\n",
       "      <td>2</td>\n",
       "      <td>2.666667</td>\n",
       "      <td>0.05</td>\n",
       "      <td>0.14</td>\n",
       "      <td>0.0</td>\n",
       "      <td>0.0</td>\n",
       "      <td>Feb</td>\n",
       "      <td>3</td>\n",
       "      <td>2</td>\n",
       "      <td>2</td>\n",
       "      <td>4</td>\n",
       "      <td>Returning_Visitor</td>\n",
       "      <td>False</td>\n",
       "      <td>False</td>\n",
       "    </tr>\n",
       "    <tr>\n",
       "      <th>4</th>\n",
       "      <td>0</td>\n",
       "      <td>0.0</td>\n",
       "      <td>0</td>\n",
       "      <td>0.0</td>\n",
       "      <td>10</td>\n",
       "      <td>627.500000</td>\n",
       "      <td>0.02</td>\n",
       "      <td>0.05</td>\n",
       "      <td>0.0</td>\n",
       "      <td>0.0</td>\n",
       "      <td>Feb</td>\n",
       "      <td>3</td>\n",
       "      <td>3</td>\n",
       "      <td>1</td>\n",
       "      <td>4</td>\n",
       "      <td>Returning_Visitor</td>\n",
       "      <td>True</td>\n",
       "      <td>False</td>\n",
       "    </tr>\n",
       "  </tbody>\n",
       "</table>\n",
       "</div>"
      ],
      "text/plain": [
       "   Administrative  Administrative_Duration  ...  Weekend  Revenue\n",
       "0               0                      0.0  ...    False    False\n",
       "1               0                      0.0  ...    False    False\n",
       "2               0                      0.0  ...    False    False\n",
       "3               0                      0.0  ...    False    False\n",
       "4               0                      0.0  ...     True    False\n",
       "\n",
       "[5 rows x 18 columns]"
      ]
     },
     "execution_count": 15,
     "metadata": {
      "tags": []
     },
     "output_type": "execute_result"
    }
   ],
   "source": [
    "url = 'https://raw.githubusercontent.com/ridasharief/DS-3000/main/online_shoppers_intention.csv'\n",
    "data = pd.read_csv(url)\n",
    "data.head()"
   ]
  },
  {
   "cell_type": "markdown",
   "metadata": {
    "id": "eAfYE226mMpI"
   },
   "source": [
    "## **2.2. Data Analysis**\n",
    "\n",
    "**Predictive Model:**\n",
    "\n",
    "We are going to construct a model to predict whether a user will end up making a purchase and provide revenue on a website based on attributes related to the user and their actions during their session using the website. We will start off by constructing a model using all 17 features and then use iterative feature selection to see if model performance can improve when only using the top 5 features.\n",
    "\n",
    "**A Supervised Learning Problem:**\n",
    "\n",
    "This is a supervised learning problem as we will use the percentage split method to train our model, followed by validation and testing. The sub-category of this model is classification.\n",
    "\n",
    "**Machine Learning Algorithms to be Applied:**\n",
    "\n",
    "We will implement the K nearest neighbor, Support Vector Machine, and Gaussian Naive Bayes classification algorithms. We have chosen to use kNN as it is a non-parametric algorithm and is appropriate for classification models. We are using SVM as it is a memory efficient classification algorithm. We are using Gaussian Naive Bayes as it is well suited for categorical input variables and only requires finding the mean and standard deviation of the points within each label. We have chosen to use these as these are three popular algorithms used for classification models, and we wanted to see how our model would work with all three implementations since each algorithms operates in a different fashion.\n",
    "\n",
    "\n"
   ]
  },
  {
   "cell_type": "markdown",
   "metadata": {
    "id": "gnYTR7hOmMpI"
   },
   "source": [
    "<a id=\"3\"></a>\n",
    "<hr style=\"height:2px; border:none; color:black; background-color:black;\">"
   ]
  },
  {
   "cell_type": "markdown",
   "metadata": {
    "id": "PllAR8JimMpK"
   },
   "source": [
    "## **3. RESULTS**"
   ]
  },
  {
   "cell_type": "markdown",
   "metadata": {
    "id": "KzuFyV7amMpK"
   },
   "source": [
    "### **3.1. Data Wrangling**"
   ]
  },
  {
   "cell_type": "markdown",
   "metadata": {
    "id": "_NxRkbS9iahG"
   },
   "source": [
    "#### **Simple Data Cleaning**\n",
    "\n",
    "In order to clean the data, we will be dropping rows with empty values."
   ]
  },
  {
   "cell_type": "code",
   "execution_count": null,
   "metadata": {
    "colab": {
     "base_uri": "https://localhost:8080/",
     "height": 224
    },
    "id": "y-XUb3PDmMpM",
    "outputId": "1bbdd7d6-5f67-465f-bb73-15afa8a92987"
   },
   "outputs": [
    {
     "data": {
      "text/html": [
       "<div>\n",
       "<style scoped>\n",
       "    .dataframe tbody tr th:only-of-type {\n",
       "        vertical-align: middle;\n",
       "    }\n",
       "\n",
       "    .dataframe tbody tr th {\n",
       "        vertical-align: top;\n",
       "    }\n",
       "\n",
       "    .dataframe thead th {\n",
       "        text-align: right;\n",
       "    }\n",
       "</style>\n",
       "<table border=\"1\" class=\"dataframe\">\n",
       "  <thead>\n",
       "    <tr style=\"text-align: right;\">\n",
       "      <th></th>\n",
       "      <th>Administrative</th>\n",
       "      <th>Administrative_Duration</th>\n",
       "      <th>Informational</th>\n",
       "      <th>Informational_Duration</th>\n",
       "      <th>ProductRelated</th>\n",
       "      <th>ProductRelated_Duration</th>\n",
       "      <th>BounceRates</th>\n",
       "      <th>ExitRates</th>\n",
       "      <th>PageValues</th>\n",
       "      <th>SpecialDay</th>\n",
       "      <th>Month</th>\n",
       "      <th>OperatingSystems</th>\n",
       "      <th>Browser</th>\n",
       "      <th>Region</th>\n",
       "      <th>TrafficType</th>\n",
       "      <th>VisitorType</th>\n",
       "      <th>Weekend</th>\n",
       "      <th>Revenue</th>\n",
       "    </tr>\n",
       "  </thead>\n",
       "  <tbody>\n",
       "    <tr>\n",
       "      <th>0</th>\n",
       "      <td>0</td>\n",
       "      <td>0.0</td>\n",
       "      <td>0</td>\n",
       "      <td>0.0</td>\n",
       "      <td>1</td>\n",
       "      <td>0.000000</td>\n",
       "      <td>0.20</td>\n",
       "      <td>0.20</td>\n",
       "      <td>0.0</td>\n",
       "      <td>0.0</td>\n",
       "      <td>Feb</td>\n",
       "      <td>1</td>\n",
       "      <td>1</td>\n",
       "      <td>1</td>\n",
       "      <td>1</td>\n",
       "      <td>Returning_Visitor</td>\n",
       "      <td>False</td>\n",
       "      <td>False</td>\n",
       "    </tr>\n",
       "    <tr>\n",
       "      <th>1</th>\n",
       "      <td>0</td>\n",
       "      <td>0.0</td>\n",
       "      <td>0</td>\n",
       "      <td>0.0</td>\n",
       "      <td>2</td>\n",
       "      <td>64.000000</td>\n",
       "      <td>0.00</td>\n",
       "      <td>0.10</td>\n",
       "      <td>0.0</td>\n",
       "      <td>0.0</td>\n",
       "      <td>Feb</td>\n",
       "      <td>2</td>\n",
       "      <td>2</td>\n",
       "      <td>1</td>\n",
       "      <td>2</td>\n",
       "      <td>Returning_Visitor</td>\n",
       "      <td>False</td>\n",
       "      <td>False</td>\n",
       "    </tr>\n",
       "    <tr>\n",
       "      <th>2</th>\n",
       "      <td>0</td>\n",
       "      <td>0.0</td>\n",
       "      <td>0</td>\n",
       "      <td>0.0</td>\n",
       "      <td>1</td>\n",
       "      <td>0.000000</td>\n",
       "      <td>0.20</td>\n",
       "      <td>0.20</td>\n",
       "      <td>0.0</td>\n",
       "      <td>0.0</td>\n",
       "      <td>Feb</td>\n",
       "      <td>4</td>\n",
       "      <td>1</td>\n",
       "      <td>9</td>\n",
       "      <td>3</td>\n",
       "      <td>Returning_Visitor</td>\n",
       "      <td>False</td>\n",
       "      <td>False</td>\n",
       "    </tr>\n",
       "    <tr>\n",
       "      <th>3</th>\n",
       "      <td>0</td>\n",
       "      <td>0.0</td>\n",
       "      <td>0</td>\n",
       "      <td>0.0</td>\n",
       "      <td>2</td>\n",
       "      <td>2.666667</td>\n",
       "      <td>0.05</td>\n",
       "      <td>0.14</td>\n",
       "      <td>0.0</td>\n",
       "      <td>0.0</td>\n",
       "      <td>Feb</td>\n",
       "      <td>3</td>\n",
       "      <td>2</td>\n",
       "      <td>2</td>\n",
       "      <td>4</td>\n",
       "      <td>Returning_Visitor</td>\n",
       "      <td>False</td>\n",
       "      <td>False</td>\n",
       "    </tr>\n",
       "    <tr>\n",
       "      <th>4</th>\n",
       "      <td>0</td>\n",
       "      <td>0.0</td>\n",
       "      <td>0</td>\n",
       "      <td>0.0</td>\n",
       "      <td>10</td>\n",
       "      <td>627.500000</td>\n",
       "      <td>0.02</td>\n",
       "      <td>0.05</td>\n",
       "      <td>0.0</td>\n",
       "      <td>0.0</td>\n",
       "      <td>Feb</td>\n",
       "      <td>3</td>\n",
       "      <td>3</td>\n",
       "      <td>1</td>\n",
       "      <td>4</td>\n",
       "      <td>Returning_Visitor</td>\n",
       "      <td>True</td>\n",
       "      <td>False</td>\n",
       "    </tr>\n",
       "  </tbody>\n",
       "</table>\n",
       "</div>"
      ],
      "text/plain": [
       "   Administrative  Administrative_Duration  ...  Weekend  Revenue\n",
       "0               0                      0.0  ...    False    False\n",
       "1               0                      0.0  ...    False    False\n",
       "2               0                      0.0  ...    False    False\n",
       "3               0                      0.0  ...    False    False\n",
       "4               0                      0.0  ...     True    False\n",
       "\n",
       "[5 rows x 18 columns]"
      ]
     },
     "execution_count": 16,
     "metadata": {
      "tags": []
     },
     "output_type": "execute_result"
    }
   ],
   "source": [
    "import numpy as np\n",
    "\n",
    "# Drop rows with empty values, if any\n",
    "data = data.dropna()\n",
    "data.head()"
   ]
  },
  {
   "cell_type": "markdown",
   "metadata": {
    "id": "dFtnPP22yH2C"
   },
   "source": [
    "#### **Perform data wrangling**\n",
    "\n",
    "We will rename the target column from 'revenue' to 'target'."
   ]
  },
  {
   "cell_type": "code",
   "execution_count": null,
   "metadata": {
    "colab": {
     "base_uri": "https://localhost:8080/",
     "height": 224
    },
    "id": "H9TpUV4syRnk",
    "outputId": "c12c4fe4-121a-4b0d-d940-ed81cabdd39f"
   },
   "outputs": [
    {
     "data": {
      "text/html": [
       "<div>\n",
       "<style scoped>\n",
       "    .dataframe tbody tr th:only-of-type {\n",
       "        vertical-align: middle;\n",
       "    }\n",
       "\n",
       "    .dataframe tbody tr th {\n",
       "        vertical-align: top;\n",
       "    }\n",
       "\n",
       "    .dataframe thead th {\n",
       "        text-align: right;\n",
       "    }\n",
       "</style>\n",
       "<table border=\"1\" class=\"dataframe\">\n",
       "  <thead>\n",
       "    <tr style=\"text-align: right;\">\n",
       "      <th></th>\n",
       "      <th>Administrative</th>\n",
       "      <th>Administrative_Duration</th>\n",
       "      <th>Informational</th>\n",
       "      <th>Informational_Duration</th>\n",
       "      <th>ProductRelated</th>\n",
       "      <th>ProductRelated_Duration</th>\n",
       "      <th>BounceRates</th>\n",
       "      <th>ExitRates</th>\n",
       "      <th>PageValues</th>\n",
       "      <th>SpecialDay</th>\n",
       "      <th>Month</th>\n",
       "      <th>OperatingSystems</th>\n",
       "      <th>Browser</th>\n",
       "      <th>Region</th>\n",
       "      <th>TrafficType</th>\n",
       "      <th>VisitorType</th>\n",
       "      <th>Weekend</th>\n",
       "      <th>target</th>\n",
       "    </tr>\n",
       "  </thead>\n",
       "  <tbody>\n",
       "    <tr>\n",
       "      <th>0</th>\n",
       "      <td>0</td>\n",
       "      <td>0.0</td>\n",
       "      <td>0</td>\n",
       "      <td>0.0</td>\n",
       "      <td>1</td>\n",
       "      <td>0.000000</td>\n",
       "      <td>0.20</td>\n",
       "      <td>0.20</td>\n",
       "      <td>0.0</td>\n",
       "      <td>0.0</td>\n",
       "      <td>Feb</td>\n",
       "      <td>1</td>\n",
       "      <td>1</td>\n",
       "      <td>1</td>\n",
       "      <td>1</td>\n",
       "      <td>Returning_Visitor</td>\n",
       "      <td>False</td>\n",
       "      <td>False</td>\n",
       "    </tr>\n",
       "    <tr>\n",
       "      <th>1</th>\n",
       "      <td>0</td>\n",
       "      <td>0.0</td>\n",
       "      <td>0</td>\n",
       "      <td>0.0</td>\n",
       "      <td>2</td>\n",
       "      <td>64.000000</td>\n",
       "      <td>0.00</td>\n",
       "      <td>0.10</td>\n",
       "      <td>0.0</td>\n",
       "      <td>0.0</td>\n",
       "      <td>Feb</td>\n",
       "      <td>2</td>\n",
       "      <td>2</td>\n",
       "      <td>1</td>\n",
       "      <td>2</td>\n",
       "      <td>Returning_Visitor</td>\n",
       "      <td>False</td>\n",
       "      <td>False</td>\n",
       "    </tr>\n",
       "    <tr>\n",
       "      <th>2</th>\n",
       "      <td>0</td>\n",
       "      <td>0.0</td>\n",
       "      <td>0</td>\n",
       "      <td>0.0</td>\n",
       "      <td>1</td>\n",
       "      <td>0.000000</td>\n",
       "      <td>0.20</td>\n",
       "      <td>0.20</td>\n",
       "      <td>0.0</td>\n",
       "      <td>0.0</td>\n",
       "      <td>Feb</td>\n",
       "      <td>4</td>\n",
       "      <td>1</td>\n",
       "      <td>9</td>\n",
       "      <td>3</td>\n",
       "      <td>Returning_Visitor</td>\n",
       "      <td>False</td>\n",
       "      <td>False</td>\n",
       "    </tr>\n",
       "    <tr>\n",
       "      <th>3</th>\n",
       "      <td>0</td>\n",
       "      <td>0.0</td>\n",
       "      <td>0</td>\n",
       "      <td>0.0</td>\n",
       "      <td>2</td>\n",
       "      <td>2.666667</td>\n",
       "      <td>0.05</td>\n",
       "      <td>0.14</td>\n",
       "      <td>0.0</td>\n",
       "      <td>0.0</td>\n",
       "      <td>Feb</td>\n",
       "      <td>3</td>\n",
       "      <td>2</td>\n",
       "      <td>2</td>\n",
       "      <td>4</td>\n",
       "      <td>Returning_Visitor</td>\n",
       "      <td>False</td>\n",
       "      <td>False</td>\n",
       "    </tr>\n",
       "    <tr>\n",
       "      <th>4</th>\n",
       "      <td>0</td>\n",
       "      <td>0.0</td>\n",
       "      <td>0</td>\n",
       "      <td>0.0</td>\n",
       "      <td>10</td>\n",
       "      <td>627.500000</td>\n",
       "      <td>0.02</td>\n",
       "      <td>0.05</td>\n",
       "      <td>0.0</td>\n",
       "      <td>0.0</td>\n",
       "      <td>Feb</td>\n",
       "      <td>3</td>\n",
       "      <td>3</td>\n",
       "      <td>1</td>\n",
       "      <td>4</td>\n",
       "      <td>Returning_Visitor</td>\n",
       "      <td>True</td>\n",
       "      <td>False</td>\n",
       "    </tr>\n",
       "  </tbody>\n",
       "</table>\n",
       "</div>"
      ],
      "text/plain": [
       "   Administrative  Administrative_Duration  ...  Weekend  target\n",
       "0               0                      0.0  ...    False   False\n",
       "1               0                      0.0  ...    False   False\n",
       "2               0                      0.0  ...    False   False\n",
       "3               0                      0.0  ...    False   False\n",
       "4               0                      0.0  ...     True   False\n",
       "\n",
       "[5 rows x 18 columns]"
      ]
     },
     "execution_count": 17,
     "metadata": {
      "tags": []
     },
     "output_type": "execute_result"
    }
   ],
   "source": [
    "# Rename target column\n",
    "data = data.rename({'Revenue' : 'target'}, axis=1)\n",
    "data.head()"
   ]
  },
  {
   "cell_type": "markdown",
   "metadata": {
    "id": "Gxgnqr2Lip3h"
   },
   "source": [
    "#### **Preprocess variables**\n",
    "\n",
    "We will preprocess the variables by transforming categorical values into numerical values when appropriate. We will then downsample our data to account for the great imbalance in our original dataset. To do this, we will randomly select 1500 rows with a postive target value, meaning the customer did make a purchase, and 1500 rows with a negative target value for a total of 3000 rows. Finally, we will standardize the data using StandardScaler so that it is normally distributed."
   ]
  },
  {
   "cell_type": "code",
   "execution_count": null,
   "metadata": {
    "colab": {
     "base_uri": "https://localhost:8080/",
     "height": 224
    },
    "id": "HjWZBHVOmMpP",
    "outputId": "ceead0d2-3cd3-4962-d261-1a1dfcf264f3"
   },
   "outputs": [
    {
     "data": {
      "text/html": [
       "<div>\n",
       "<style scoped>\n",
       "    .dataframe tbody tr th:only-of-type {\n",
       "        vertical-align: middle;\n",
       "    }\n",
       "\n",
       "    .dataframe tbody tr th {\n",
       "        vertical-align: top;\n",
       "    }\n",
       "\n",
       "    .dataframe thead th {\n",
       "        text-align: right;\n",
       "    }\n",
       "</style>\n",
       "<table border=\"1\" class=\"dataframe\">\n",
       "  <thead>\n",
       "    <tr style=\"text-align: right;\">\n",
       "      <th></th>\n",
       "      <th>Administrative</th>\n",
       "      <th>Administrative_Duration</th>\n",
       "      <th>Informational</th>\n",
       "      <th>Informational_Duration</th>\n",
       "      <th>ProductRelated</th>\n",
       "      <th>ProductRelated_Duration</th>\n",
       "      <th>BounceRates</th>\n",
       "      <th>ExitRates</th>\n",
       "      <th>PageValues</th>\n",
       "      <th>SpecialDay</th>\n",
       "      <th>Month</th>\n",
       "      <th>OperatingSystems</th>\n",
       "      <th>Browser</th>\n",
       "      <th>Region</th>\n",
       "      <th>TrafficType</th>\n",
       "      <th>VisitorType</th>\n",
       "      <th>Weekend</th>\n",
       "      <th>target</th>\n",
       "    </tr>\n",
       "  </thead>\n",
       "  <tbody>\n",
       "    <tr>\n",
       "      <th>0</th>\n",
       "      <td>0</td>\n",
       "      <td>0.0</td>\n",
       "      <td>0</td>\n",
       "      <td>0.0</td>\n",
       "      <td>1</td>\n",
       "      <td>0.000000</td>\n",
       "      <td>0.20</td>\n",
       "      <td>0.20</td>\n",
       "      <td>0.0</td>\n",
       "      <td>0.0</td>\n",
       "      <td>2</td>\n",
       "      <td>1</td>\n",
       "      <td>1</td>\n",
       "      <td>1</td>\n",
       "      <td>1</td>\n",
       "      <td>0</td>\n",
       "      <td>0</td>\n",
       "      <td>0</td>\n",
       "    </tr>\n",
       "    <tr>\n",
       "      <th>1</th>\n",
       "      <td>0</td>\n",
       "      <td>0.0</td>\n",
       "      <td>0</td>\n",
       "      <td>0.0</td>\n",
       "      <td>2</td>\n",
       "      <td>64.000000</td>\n",
       "      <td>0.00</td>\n",
       "      <td>0.10</td>\n",
       "      <td>0.0</td>\n",
       "      <td>0.0</td>\n",
       "      <td>2</td>\n",
       "      <td>2</td>\n",
       "      <td>2</td>\n",
       "      <td>1</td>\n",
       "      <td>2</td>\n",
       "      <td>0</td>\n",
       "      <td>0</td>\n",
       "      <td>0</td>\n",
       "    </tr>\n",
       "    <tr>\n",
       "      <th>2</th>\n",
       "      <td>0</td>\n",
       "      <td>0.0</td>\n",
       "      <td>0</td>\n",
       "      <td>0.0</td>\n",
       "      <td>1</td>\n",
       "      <td>0.000000</td>\n",
       "      <td>0.20</td>\n",
       "      <td>0.20</td>\n",
       "      <td>0.0</td>\n",
       "      <td>0.0</td>\n",
       "      <td>2</td>\n",
       "      <td>4</td>\n",
       "      <td>1</td>\n",
       "      <td>9</td>\n",
       "      <td>3</td>\n",
       "      <td>0</td>\n",
       "      <td>0</td>\n",
       "      <td>0</td>\n",
       "    </tr>\n",
       "    <tr>\n",
       "      <th>3</th>\n",
       "      <td>0</td>\n",
       "      <td>0.0</td>\n",
       "      <td>0</td>\n",
       "      <td>0.0</td>\n",
       "      <td>2</td>\n",
       "      <td>2.666667</td>\n",
       "      <td>0.05</td>\n",
       "      <td>0.14</td>\n",
       "      <td>0.0</td>\n",
       "      <td>0.0</td>\n",
       "      <td>2</td>\n",
       "      <td>3</td>\n",
       "      <td>2</td>\n",
       "      <td>2</td>\n",
       "      <td>4</td>\n",
       "      <td>0</td>\n",
       "      <td>0</td>\n",
       "      <td>0</td>\n",
       "    </tr>\n",
       "    <tr>\n",
       "      <th>4</th>\n",
       "      <td>0</td>\n",
       "      <td>0.0</td>\n",
       "      <td>0</td>\n",
       "      <td>0.0</td>\n",
       "      <td>10</td>\n",
       "      <td>627.500000</td>\n",
       "      <td>0.02</td>\n",
       "      <td>0.05</td>\n",
       "      <td>0.0</td>\n",
       "      <td>0.0</td>\n",
       "      <td>2</td>\n",
       "      <td>3</td>\n",
       "      <td>3</td>\n",
       "      <td>1</td>\n",
       "      <td>4</td>\n",
       "      <td>0</td>\n",
       "      <td>1</td>\n",
       "      <td>0</td>\n",
       "    </tr>\n",
       "  </tbody>\n",
       "</table>\n",
       "</div>"
      ],
      "text/plain": [
       "   Administrative  Administrative_Duration  ...  Weekend  target\n",
       "0               0                      0.0  ...        0       0\n",
       "1               0                      0.0  ...        0       0\n",
       "2               0                      0.0  ...        0       0\n",
       "3               0                      0.0  ...        0       0\n",
       "4               0                      0.0  ...        1       0\n",
       "\n",
       "[5 rows x 18 columns]"
      ]
     },
     "execution_count": 18,
     "metadata": {
      "tags": []
     },
     "output_type": "execute_result"
    }
   ],
   "source": [
    "# Month column\n",
    "month_dict = {'Feb':2, 'Mar':3, 'May':5, 'Oct':10, 'June':6, 'Jul':7, 'Aug':8, 'Nov':11, 'Sep':9,'Dec':12}\n",
    "data['Month'] = data['Month'].map(month_dict)\n",
    "\n",
    "# Visitor_type\n",
    "visitor_dict = {'Returning_Visitor': 0, 'New_Visitor': 1, 'Other': 2}\n",
    "data['VisitorType'] = data['VisitorType'].map(visitor_dict)\n",
    "\n",
    "# Weekend\n",
    "weekend_dict = {False:0, True:1}\n",
    "data['Weekend'] = data['Weekend'].map(weekend_dict)\n",
    "\n",
    "# Target\n",
    "target_dict = {False:0, True:1}\n",
    "data['target'] = data['target'].map(target_dict)\n",
    "data.head()\n"
   ]
  },
  {
   "cell_type": "code",
   "execution_count": null,
   "metadata": {
    "id": "NqZTaPsHmhsS"
   },
   "outputs": [],
   "source": [
    "# Downsampling the data to balance our dataset \n",
    "balanced_data = data.groupby('target').apply(lambda x: x.sample(n=1500)).reset_index(drop = True)"
   ]
  },
  {
   "cell_type": "code",
   "execution_count": null,
   "metadata": {
    "colab": {
     "base_uri": "https://localhost:8080/",
     "height": 224
    },
    "id": "XbyMmu98mhsT",
    "outputId": "2f65d946-bf9d-4251-991e-29a1563bf61a"
   },
   "outputs": [
    {
     "data": {
      "text/html": [
       "<div>\n",
       "<style scoped>\n",
       "    .dataframe tbody tr th:only-of-type {\n",
       "        vertical-align: middle;\n",
       "    }\n",
       "\n",
       "    .dataframe tbody tr th {\n",
       "        vertical-align: top;\n",
       "    }\n",
       "\n",
       "    .dataframe thead th {\n",
       "        text-align: right;\n",
       "    }\n",
       "</style>\n",
       "<table border=\"1\" class=\"dataframe\">\n",
       "  <thead>\n",
       "    <tr style=\"text-align: right;\">\n",
       "      <th></th>\n",
       "      <th>Administrative</th>\n",
       "      <th>Administrative_Duration</th>\n",
       "      <th>Informational</th>\n",
       "      <th>Informational_Duration</th>\n",
       "      <th>ProductRelated</th>\n",
       "      <th>ProductRelated_Duration</th>\n",
       "      <th>BounceRates</th>\n",
       "      <th>ExitRates</th>\n",
       "      <th>PageValues</th>\n",
       "      <th>SpecialDay</th>\n",
       "      <th>Month</th>\n",
       "      <th>OperatingSystems</th>\n",
       "      <th>Browser</th>\n",
       "      <th>Region</th>\n",
       "      <th>TrafficType</th>\n",
       "      <th>VisitorType</th>\n",
       "      <th>Weekend</th>\n",
       "      <th>target</th>\n",
       "    </tr>\n",
       "  </thead>\n",
       "  <tbody>\n",
       "    <tr>\n",
       "      <th>0</th>\n",
       "      <td>2</td>\n",
       "      <td>86.000000</td>\n",
       "      <td>0</td>\n",
       "      <td>0.000000</td>\n",
       "      <td>18</td>\n",
       "      <td>754.916667</td>\n",
       "      <td>0.000000</td>\n",
       "      <td>0.005556</td>\n",
       "      <td>0.000000</td>\n",
       "      <td>0.0</td>\n",
       "      <td>5</td>\n",
       "      <td>3</td>\n",
       "      <td>2</td>\n",
       "      <td>6</td>\n",
       "      <td>2</td>\n",
       "      <td>1</td>\n",
       "      <td>0</td>\n",
       "      <td>0</td>\n",
       "    </tr>\n",
       "    <tr>\n",
       "      <th>1</th>\n",
       "      <td>1</td>\n",
       "      <td>35.750000</td>\n",
       "      <td>0</td>\n",
       "      <td>0.000000</td>\n",
       "      <td>7</td>\n",
       "      <td>1173.000000</td>\n",
       "      <td>0.000000</td>\n",
       "      <td>0.028571</td>\n",
       "      <td>76.780941</td>\n",
       "      <td>0.0</td>\n",
       "      <td>11</td>\n",
       "      <td>2</td>\n",
       "      <td>4</td>\n",
       "      <td>9</td>\n",
       "      <td>2</td>\n",
       "      <td>0</td>\n",
       "      <td>0</td>\n",
       "      <td>0</td>\n",
       "    </tr>\n",
       "    <tr>\n",
       "      <th>2</th>\n",
       "      <td>12</td>\n",
       "      <td>1449.666667</td>\n",
       "      <td>4</td>\n",
       "      <td>559.083333</td>\n",
       "      <td>127</td>\n",
       "      <td>4876.007712</td>\n",
       "      <td>0.005755</td>\n",
       "      <td>0.029203</td>\n",
       "      <td>5.751219</td>\n",
       "      <td>0.0</td>\n",
       "      <td>11</td>\n",
       "      <td>2</td>\n",
       "      <td>2</td>\n",
       "      <td>1</td>\n",
       "      <td>2</td>\n",
       "      <td>0</td>\n",
       "      <td>0</td>\n",
       "      <td>0</td>\n",
       "    </tr>\n",
       "    <tr>\n",
       "      <th>3</th>\n",
       "      <td>0</td>\n",
       "      <td>0.000000</td>\n",
       "      <td>0</td>\n",
       "      <td>0.000000</td>\n",
       "      <td>7</td>\n",
       "      <td>220.333333</td>\n",
       "      <td>0.000000</td>\n",
       "      <td>0.010000</td>\n",
       "      <td>0.000000</td>\n",
       "      <td>0.0</td>\n",
       "      <td>5</td>\n",
       "      <td>2</td>\n",
       "      <td>2</td>\n",
       "      <td>1</td>\n",
       "      <td>5</td>\n",
       "      <td>1</td>\n",
       "      <td>0</td>\n",
       "      <td>0</td>\n",
       "    </tr>\n",
       "    <tr>\n",
       "      <th>4</th>\n",
       "      <td>1</td>\n",
       "      <td>129.360000</td>\n",
       "      <td>0</td>\n",
       "      <td>0.000000</td>\n",
       "      <td>6</td>\n",
       "      <td>341.360000</td>\n",
       "      <td>0.000000</td>\n",
       "      <td>0.062500</td>\n",
       "      <td>11.275465</td>\n",
       "      <td>0.0</td>\n",
       "      <td>11</td>\n",
       "      <td>2</td>\n",
       "      <td>5</td>\n",
       "      <td>3</td>\n",
       "      <td>1</td>\n",
       "      <td>0</td>\n",
       "      <td>0</td>\n",
       "      <td>0</td>\n",
       "    </tr>\n",
       "  </tbody>\n",
       "</table>\n",
       "</div>"
      ],
      "text/plain": [
       "   Administrative  Administrative_Duration  ...  Weekend  target\n",
       "0               2                86.000000  ...        0       0\n",
       "1               1                35.750000  ...        0       0\n",
       "2              12              1449.666667  ...        0       0\n",
       "3               0                 0.000000  ...        0       0\n",
       "4               1               129.360000  ...        0       0\n",
       "\n",
       "[5 rows x 18 columns]"
      ]
     },
     "execution_count": 20,
     "metadata": {
      "tags": []
     },
     "output_type": "execute_result"
    }
   ],
   "source": [
    "# Standardized data\n",
    "from sklearn.preprocessing import StandardScaler \n",
    "  \n",
    "scaler = StandardScaler() \n",
    "  \n",
    "scaler.fit(balanced_data.drop('target', axis = 1)) \n",
    "scaled_features = scaler.transform(balanced_data.drop('target', axis = 1))\n",
    "balanced_data.head()\n",
    " "
   ]
  },
  {
   "cell_type": "markdown",
   "metadata": {
    "id": "gSvU1RFL0j69"
   },
   "source": [
    "** **Iterative feature selection will be perfomed in section 3.3**"
   ]
  },
  {
   "cell_type": "markdown",
   "metadata": {
    "id": "u9mcabS8mMpU"
   },
   "source": [
    "## **3.2. Data Exploration**\n"
   ]
  },
  {
   "cell_type": "code",
   "execution_count": null,
   "metadata": {
    "colab": {
     "base_uri": "https://localhost:8080/",
     "height": 301
    },
    "id": "0Gs1f1N-tHkB",
    "outputId": "ddafae33-2637-488d-d730-6a8829a037b7"
   },
   "outputs": [
    {
     "data": {
      "image/png": "[encoded data removed]",
      "text/plain": [
       "<Figure size 432x288 with 1 Axes>"
      ]
     },
     "metadata": {
      "needs_background": "light",
      "tags": []
     },
     "output_type": "display_data"
    }
   ],
   "source": [
    "# Bar Graph\n",
    "# Github link to bar graph- https://github.com/ridasharief/DS-3000/blob/main/Graph1.png\n",
    "import matplotlib.pyplot as plt\n",
    "import seaborn as sns\n",
    "\n",
    "data.groupby(['SpecialDay'])['target'].sum().plot(kind='bar')\n",
    "plt.title(\"Closeness to Special Day vs. Revenue instances\")\n",
    "plt.rcParams[\"figure.figsize\"] = (15, 10)"
   ]
  },
  {
   "cell_type": "markdown",
   "metadata": {
    "id": "2y8s5MbGcTxI"
   },
   "source": [
    "**Visual Interpretation:**\n",
    "\n",
    "The bar graph above shows the relationship between the proximity to a holiday and the number of purchases completed. The proximity to a holiday variable has been previously scaled by the dataset creator to fit a 0 to 1 range, with 0 being the farthest from a holiday and 1 being on a holiday. We expected to see that the number of purchases would increase as dates grew closer to a special day. However, the graph shows that the large majority of transactions took place on days that were farthest from holidays. This may be a result of the fact that there are far fewer days which are holidays when compared to those that are not, as well as the fact that people do not want to spend too much of their time around holiday seasons involved in shopping.\n",
    "\n",
    "Excluding the transactions on days with a proximity of 0, the number of revenue instances increases until it peaks at a proximity of 0.6 then\n",
    "decreases as the proximity approaches 1. We expected to see a positive increase as proximity increased, but the absence of a positive\n",
    "increase could be explained by how proximity is calculated. For example, many transactions might take place in the days leading\n",
    "up to Christmas, but very few might take place on Christmas itself and the days following. However, the days right before and after a\n",
    "holiday have similar proximities, so they could average out to a lower average number of revenue instances.\n",
    "\n",
    "While this graph does not show a strong relationship between closeness to special days and the target variable, we chose to include it\n",
    "because the visualization subverted our expectations and caused us to think more about our data and how our feature variables were calculated.\n"
   ]
  },
  {
   "cell_type": "code",
   "execution_count": null,
   "metadata": {
    "colab": {
     "base_uri": "https://localhost:8080/",
     "height": 740
    },
    "id": "18IrBuN8kopB",
    "outputId": "f6a94106-7610-450e-ead7-de5fc198935e"
   },
   "outputs": [
    {
     "data": {
      "text/plain": [
       "Text(0.5, 1.0, 'Online Shoppers Intention Heat Map')"
      ]
     },
     "execution_count": 22,
     "metadata": {
      "tags": []
     },
     "output_type": "execute_result"
    },
    {
     "data": {
      "image/png": "[encoded data removed]",
      "text/plain": [
       "<Figure size 1080x720 with 2 Axes>"
      ]
     },
     "metadata": {
      "needs_background": "light",
      "tags": []
     },
     "output_type": "display_data"
    }
   ],
   "source": [
    "# Heat \n",
    "# Github link to heatmap- https://github.com/ridasharief/DS-3000/blob/main/heatmap.png\n",
    "\n",
    "import scipy.stats as stats\n",
    "\n",
    "plt.figure(figsize=(15,10))\n",
    "sns.heatmap(data.corr(),annot = True,cmap=\"copper\").set_title('Online Shoppers Intention Heat Map')\n"
   ]
  },
  {
   "cell_type": "markdown",
   "metadata": {
    "id": "36IXDlYJ1Gx6"
   },
   "source": [
    "**Visual Interpretation:**\n",
    "\n",
    "When looking at the heat map, we wanted to analyze which features had the strongest correlation both with other features and with the target variable. \n",
    "\n",
    "One of the main observations we had was that the features that had the strongest correlation with each other were Administrative and Administrative_Duration (0.6), Informational and Informational_Duration (0.62), and ProductRelated and ProductRelated_Duration (0.86). We are hypothesizing that this is the case as the first column represents the number of pages of a given type a user visits while the duration column represents the amount of time spent on the respective type of page, so it is natural to assume that the more pages a user views, the more amount of time they will need to view them.\n",
    "\n",
    "The top five features when measuring the correlation with the target variable appeared to be PageValues with an r-value of .49 (far stronger than the rest), ExitRates which had a negative correlation (-.21), the ProductRelated column (.16), ProductRelated_Duration column (.15), and finally BounceRates, which also had a negative correlation (-.15). It makes sense that exit rates and bounce rates have a negative correlation as these features represent attributes related to the user leaving the e-commerce platform. We are expecting to see at least a few, if not all, of these columns will be chosen when using iterative feature selection in future analysis."
   ]
  },
  {
   "cell_type": "code",
   "execution_count": null,
   "metadata": {
    "colab": {
     "base_uri": "https://localhost:8080/"
    },
    "id": "uEoXR4wTnEy7",
    "outputId": "bb050bed-fa23-4db1-8691-ecbb248e7c78"
   },
   "outputs": [
    {
     "data": {
      "text/plain": [
       "Text(0.5, 1.0, 'Month vs. Revenue instances')"
      ]
     },
     "execution_count": 7,
     "metadata": {
      "tags": []
     },
     "output_type": "execute_result"
    },
    {
     "data": {
      "image/png": "[encoded data removed]",
      "text/plain": [
       "<Figure size 1080x720 with 1 Axes>"
      ]
     },
     "metadata": {
      "needs_background": "light",
      "tags": []
     },
     "output_type": "display_data"
    }
   ],
   "source": [
    "# Line Graph\n",
    "# Github link to line graph- https://github.com/ridasharief/DS-3000/blob/main/MvsRev.png\n",
    "\n",
    "data.groupby(['Month'])['target'].sum().plot(kind='line')\n",
    "plt.title('Month vs. Revenue instances')"
   ]
  },
  {
   "cell_type": "markdown",
   "metadata": {
    "id": "fHTks2pFcnM-"
   },
   "source": [
    "**Visual Interpretation:**\n",
    "\n",
    "We created this line graph so we could see if there was a clear relationship between the month and the number of purchases made. We were especially interested in whether certain seasons saw peaks or lows compared to others. Overall we see months at the beginning and end of the year, with the exception of February, show a greater number of revenue instances, while months between June and October account for a lower proprtion of the sales.\n",
    "\n",
    " As shown by the visualization below, November sees \n",
    "the highest instances of purchases compared to any other month, while Feburary has the lowest. Perhaps the upcoming holiday season can explain \n",
    "why revenue in November is so much higher. May sees the second highest peak, this could be because of Mother's day or could be because of the season \n",
    "of Spring/Summer. "
   ]
  },
  {
   "cell_type": "code",
   "execution_count": null,
   "metadata": {
    "colab": {
     "base_uri": "https://localhost:8080/",
     "height": 624
    },
    "id": "DUdPy-ANoMpt",
    "outputId": "4259915d-bb7e-47ea-b8de-19aeae674422"
   },
   "outputs": [
    {
     "data": {
      "image/png": "[encoded data removed]",
      "text/plain": [
       "<Figure size 1080x720 with 1 Axes>"
      ]
     },
     "metadata": {
      "needs_background": "light",
      "tags": []
     },
     "output_type": "display_data"
    }
   ],
   "source": [
    "# Bar Graph\n",
    "# Github link to bar graph- https://github.com/ridasharief/DS-3000/blob/main/MvsRevBar.png\n",
    "\n",
    "plot = data.groupby(['Month'])['target'].sum().plot(kind='bar')\n",
    "plt.title(\"Month vs. Revenue instances\")\n",
    "plt.rcParams[\"figure.figsize\"] = (15, 10)"
   ]
  },
  {
   "cell_type": "markdown",
   "metadata": {
    "id": "MtSNfxeHct84"
   },
   "source": [
    "**Visual Interpretation:**\n",
    "\n",
    "Just as in the previous visualization, this bar graph shows the correlation between month and revenue. The analysis for what is shown here would be the same as what was interpreted for the line graph, and one can more clearly see revenue instances per month as separated groupings.\n",
    "\n",
    "It is important to note that when looking at this bar graph, we noticed that there are no values for the months of January and April. The original source of this dataset does not explicitly state whether this is a result of them failing to collect data for those months or simply due to a lack of purchases being made.\n"
   ]
  },
  {
   "cell_type": "markdown",
   "metadata": {
    "id": "4ktxDdbXmMpU"
   },
   "source": [
    "## **3.3. Model Training**"
   ]
  },
  {
   "cell_type": "markdown",
   "metadata": {
    "id": "TUd7WlDd5pd2"
   },
   "source": [
    "### **Appling machine learning algorithms- kNN, SVM, Gaussian Naive Bayes**"
   ]
  },
  {
   "cell_type": "code",
   "execution_count": null,
   "metadata": {
    "id": "A9Ek46ce_x0V"
   },
   "outputs": [],
   "source": [
    "# Define feature and target columns \n",
    "\n",
    "features = scaled_features\n",
    "target = balanced_data['target']"
   ]
  },
  {
   "cell_type": "code",
   "execution_count": null,
   "metadata": {
    "colab": {
     "base_uri": "https://localhost:8080/"
    },
    "id": "j3e4r38Umhsa",
    "outputId": "67dcff50-81e5-41ca-b369-cfd32080d8ac"
   },
   "outputs": [
    {
     "data": {
      "text/plain": [
       "array([[-2.15761240e-01, -6.26482526e-02, -4.53122709e-01, ...,\n",
       "        -5.03999468e-01,  1.97071619e+00, -5.76837069e-01],\n",
       "       [-5.00908253e-01, -3.36449270e-01, -4.53122709e-01, ...,\n",
       "        -5.03999468e-01, -4.65274157e-01, -5.76837069e-01],\n",
       "       [ 2.63570889e+00,  7.36766659e+00,  2.43147809e+00, ...,\n",
       "        -5.03999468e-01, -4.65274157e-01, -5.76837069e-01],\n",
       "       ...,\n",
       "       [ 2.06541486e+00,  1.07992778e+00, -4.53122709e-01, ...,\n",
       "        -1.17326115e-03, -4.65274157e-01,  1.73359178e+00],\n",
       "       [-2.15761240e-01, -3.51433405e-01, -4.53122709e-01, ...,\n",
       "        -7.55412571e-01, -4.65274157e-01, -5.76837069e-01],\n",
       "       [ 6.39679799e-01,  1.02963683e+00,  2.68027491e-01, ...,\n",
       "         1.50730536e+00, -4.65274157e-01, -5.76837069e-01]])"
      ]
     },
     "execution_count": 31,
     "metadata": {
      "tags": []
     },
     "output_type": "execute_result"
    }
   ],
   "source": [
    "features"
   ]
  },
  {
   "cell_type": "code",
   "execution_count": null,
   "metadata": {
    "colab": {
     "base_uri": "https://localhost:8080/"
    },
    "id": "PGxI5bIUmhsc",
    "outputId": "eee6c0af-ebe7-4321-e113-1c7c2d99f25c"
   },
   "outputs": [
    {
     "data": {
      "text/plain": [
       "0       0\n",
       "1       0\n",
       "2       0\n",
       "3       0\n",
       "4       0\n",
       "       ..\n",
       "2995    1\n",
       "2996    1\n",
       "2997    1\n",
       "2998    1\n",
       "2999    1\n",
       "Name: target, Length: 3000, dtype: int64"
      ]
     },
     "execution_count": 32,
     "metadata": {
      "tags": []
     },
     "output_type": "execute_result"
    }
   ],
   "source": [
    "target"
   ]
  },
  {
   "cell_type": "code",
   "execution_count": null,
   "metadata": {
    "id": "v3rgfuHe_83G"
   },
   "outputs": [],
   "source": [
    "# Define a dictionary of estimators so they can be applied in an iteration statement\n",
    "\n",
    "from sklearn.svm import LinearSVC\n",
    "from sklearn.naive_bayes import GaussianNB\n",
    "from sklearn.neighbors import KNeighborsClassifier\n",
    "\n",
    "\n",
    "estimators = {\n",
    "    'k-Nearest Neighbor': KNeighborsClassifier(), \n",
    "    'Support Vector Machine': LinearSVC(max_iter=1000000),\n",
    "    'Gaussian Naive Bayes': GaussianNB()}"
   ]
  },
  {
   "cell_type": "code",
   "execution_count": null,
   "metadata": {
    "colab": {
     "base_uri": "https://localhost:8080/"
    },
    "id": "PCd27p3fAEvR",
    "outputId": "07a7b177-14c5-4169-cbe5-dae772195c7d"
   },
   "outputs": [
    {
     "data": {
      "text/plain": [
       "dict_values([KNeighborsClassifier(algorithm='auto', leaf_size=30, metric='minkowski',\n",
       "                     metric_params=None, n_jobs=None, n_neighbors=5, p=2,\n",
       "                     weights='uniform'), LinearSVC(C=1.0, class_weight=None, dual=True, fit_intercept=True,\n",
       "          intercept_scaling=1, loss='squared_hinge', max_iter=1000000,\n",
       "          multi_class='ovr', penalty='l2', random_state=None, tol=0.0001,\n",
       "          verbose=0), GaussianNB(priors=None, var_smoothing=1e-09)])"
      ]
     },
     "execution_count": 34,
     "metadata": {
      "tags": []
     },
     "output_type": "execute_result"
    }
   ],
   "source": [
    "estimators.values()"
   ]
  },
  {
   "cell_type": "code",
   "execution_count": null,
   "metadata": {
    "id": "duOFK29vop77"
   },
   "outputs": [],
   "source": [
    " # Split dataset into testing and training set\n",
    " \n",
    " from sklearn.model_selection import train_test_split\n",
    " X_train, X_test, y_train, y_test = train_test_split(features, target, random_state = 3000)"
   ]
  },
  {
   "cell_type": "code",
   "execution_count": null,
   "metadata": {
    "id": "GDM72mToAhRx"
   },
   "outputs": [],
   "source": [
    "# Perform percentage-split to identify the best performing algorithm\n",
    "\n",
    "from sklearn.neighbors import KNeighborsClassifier\n",
    "from sklearn.metrics import classification_report\n",
    "\n",
    "def classifiers_percentage_split():\n",
    "\n",
    "  print(\"Classification reports for algorithms with all features: \\n\")\n",
    "  \n",
    "  for estimator_name, estimator_object in estimators.items():\n",
    "\n",
    "        scores = estimator_object.fit(X=X_train, y=y_train)\n",
    "\n",
    "        # Make predictions on the test set\n",
    "        predicted = estimator_object.predict(X=X_test)\n",
    "        expected = y_test\n",
    "\n",
    "        # Report prediction accuracy\n",
    "        class_report = classification_report(y_true=expected, y_pred=predicted)\n",
    "    \n",
    "        print(estimator_name + \": \\n\\t\" + f'Classification accuracy on the training data:={scores.score(X_train, y_train):.2%} ')\n",
    "        print(\"\\t\"+ f'Classification accuracy on the test data:={scores.score(X_test, y_test):.2%} ' +\"\\n\")\n",
    "        print(class_report)"
   ]
  },
  {
   "cell_type": "code",
   "execution_count": null,
   "metadata": {
    "colab": {
     "base_uri": "https://localhost:8080/"
    },
    "id": "6szSMJfpBXA_",
    "outputId": "c64b1c6d-4b34-4734-9452-3653bc90069d"
   },
   "outputs": [
    {
     "name": "stdout",
     "output_type": "stream",
     "text": [
      "Classification reports for algorithms with all features: \n",
      "\n",
      "k-Nearest Neighbor: \n",
      "\tClassification accuracy on the training data:=82.13% \n",
      "\tClassification accuracy on the test data:=71.87% \n",
      "\n",
      "              precision    recall  f1-score   support\n",
      "\n",
      "           0       0.71      0.72      0.71       367\n",
      "           1       0.73      0.72      0.72       383\n",
      "\n",
      "    accuracy                           0.72       750\n",
      "   macro avg       0.72      0.72      0.72       750\n",
      "weighted avg       0.72      0.72      0.72       750\n",
      "\n",
      "Support Vector Machine: \n",
      "\tClassification accuracy on the training data:=79.64% \n",
      "\tClassification accuracy on the test data:=81.07% \n",
      "\n",
      "              precision    recall  f1-score   support\n",
      "\n",
      "           0       0.76      0.91      0.82       367\n",
      "           1       0.89      0.72      0.79       383\n",
      "\n",
      "    accuracy                           0.81       750\n",
      "   macro avg       0.82      0.81      0.81       750\n",
      "weighted avg       0.82      0.81      0.81       750\n",
      "\n",
      "Gaussian Naive Bayes: \n",
      "\tClassification accuracy on the training data:=73.96% \n",
      "\tClassification accuracy on the test data:=74.13% \n",
      "\n",
      "              precision    recall  f1-score   support\n",
      "\n",
      "           0       0.77      0.67      0.72       367\n",
      "           1       0.72      0.81      0.76       383\n",
      "\n",
      "    accuracy                           0.74       750\n",
      "   macro avg       0.74      0.74      0.74       750\n",
      "weighted avg       0.74      0.74      0.74       750\n",
      "\n"
     ]
    }
   ],
   "source": [
    "classifiers_percentage_split()"
   ]
  },
  {
   "cell_type": "code",
   "execution_count": null,
   "metadata": {
    "id": "arDqltZTNVSj"
   },
   "outputs": [],
   "source": [
    "# Iterative Feature Selection\n",
    "\n",
    "from sklearn.feature_selection import RFE\n",
    "from sklearn.tree import DecisionTreeClassifier\n",
    "\n",
    "def feature_selection():\n",
    "\n",
    "  # Create the RFE object and compute a cross-validation score\n",
    "  rfe = RFE(estimator=DecisionTreeClassifier(),  n_features_to_select = 5)\n",
    "  rfe.fit(X_train, y_train)\n",
    "\n",
    "  # Transform training and testing sets so only the selected features are retained\n",
    "  X_train_selected = rfe.transform(X_train)\n",
    "  X_test_selected = rfe.transform(X_test)\n",
    "\n",
    "  # Return the selected features\n",
    "  print(\"Optimal number of features : %d\" % rfe.n_features_)\n",
    "  print(\"Selected features after RFE:\")\n",
    "  selected = []\n",
    "  for i, feature in zip(rfe.get_support(), data.columns):\n",
    "    if i == True:\n",
    "      selected.append(feature)\n",
    "  print(selected)\n",
    "  return(X_train_selected, X_test_selected, selected)\n"
   ]
  },
  {
   "cell_type": "code",
   "execution_count": null,
   "metadata": {
    "colab": {
     "base_uri": "https://localhost:8080/"
    },
    "id": "GzUxTwnt1-o3",
    "outputId": "86e3dc44-21d1-45b7-fff0-6e1ce1873796"
   },
   "outputs": [
    {
     "name": "stdout",
     "output_type": "stream",
     "text": [
      "Optimal number of features : 5\n",
      "Selected features after RFE:\n",
      "['Administrative_Duration', 'ProductRelated_Duration', 'ExitRates', 'PageValues', 'Month']\n"
     ]
    }
   ],
   "source": [
    "X_train_selected, X_test_selected, selected = feature_selection()"
   ]
  },
  {
   "cell_type": "code",
   "execution_count": null,
   "metadata": {
    "colab": {
     "base_uri": "https://localhost:8080/",
     "height": 419
    },
    "id": "OJdxzlvpST5A",
    "outputId": "1aaf27ec-854e-4961-8f33-3198eb3b0cfd"
   },
   "outputs": [
    {
     "data": {
      "text/html": [
       "<div>\n",
       "<style scoped>\n",
       "    .dataframe tbody tr th:only-of-type {\n",
       "        vertical-align: middle;\n",
       "    }\n",
       "\n",
       "    .dataframe tbody tr th {\n",
       "        vertical-align: top;\n",
       "    }\n",
       "\n",
       "    .dataframe thead th {\n",
       "        text-align: right;\n",
       "    }\n",
       "</style>\n",
       "<table border=\"1\" class=\"dataframe\">\n",
       "  <thead>\n",
       "    <tr style=\"text-align: right;\">\n",
       "      <th></th>\n",
       "      <th>Administrative_Duration</th>\n",
       "      <th>ProductRelated_Duration</th>\n",
       "      <th>ExitRates</th>\n",
       "      <th>PageValues</th>\n",
       "      <th>Month</th>\n",
       "    </tr>\n",
       "  </thead>\n",
       "  <tbody>\n",
       "    <tr>\n",
       "      <th>0</th>\n",
       "      <td>86.000000</td>\n",
       "      <td>754.916667</td>\n",
       "      <td>0.005556</td>\n",
       "      <td>0.000000</td>\n",
       "      <td>5</td>\n",
       "    </tr>\n",
       "    <tr>\n",
       "      <th>1</th>\n",
       "      <td>35.750000</td>\n",
       "      <td>1173.000000</td>\n",
       "      <td>0.028571</td>\n",
       "      <td>76.780941</td>\n",
       "      <td>11</td>\n",
       "    </tr>\n",
       "    <tr>\n",
       "      <th>2</th>\n",
       "      <td>1449.666667</td>\n",
       "      <td>4876.007712</td>\n",
       "      <td>0.029203</td>\n",
       "      <td>5.751219</td>\n",
       "      <td>11</td>\n",
       "    </tr>\n",
       "    <tr>\n",
       "      <th>3</th>\n",
       "      <td>0.000000</td>\n",
       "      <td>220.333333</td>\n",
       "      <td>0.010000</td>\n",
       "      <td>0.000000</td>\n",
       "      <td>5</td>\n",
       "    </tr>\n",
       "    <tr>\n",
       "      <th>4</th>\n",
       "      <td>129.360000</td>\n",
       "      <td>341.360000</td>\n",
       "      <td>0.062500</td>\n",
       "      <td>11.275465</td>\n",
       "      <td>11</td>\n",
       "    </tr>\n",
       "    <tr>\n",
       "      <th>...</th>\n",
       "      <td>...</td>\n",
       "      <td>...</td>\n",
       "      <td>...</td>\n",
       "      <td>...</td>\n",
       "      <td>...</td>\n",
       "    </tr>\n",
       "    <tr>\n",
       "      <th>2995</th>\n",
       "      <td>82.200000</td>\n",
       "      <td>5505.401209</td>\n",
       "      <td>0.005810</td>\n",
       "      <td>10.594232</td>\n",
       "      <td>11</td>\n",
       "    </tr>\n",
       "    <tr>\n",
       "      <th>2996</th>\n",
       "      <td>195.000000</td>\n",
       "      <td>3408.266667</td>\n",
       "      <td>0.027557</td>\n",
       "      <td>9.594847</td>\n",
       "      <td>11</td>\n",
       "    </tr>\n",
       "    <tr>\n",
       "      <th>2997</th>\n",
       "      <td>295.694056</td>\n",
       "      <td>785.474359</td>\n",
       "      <td>0.001481</td>\n",
       "      <td>34.991667</td>\n",
       "      <td>5</td>\n",
       "    </tr>\n",
       "    <tr>\n",
       "      <th>2998</th>\n",
       "      <td>33.000000</td>\n",
       "      <td>1720.000000</td>\n",
       "      <td>0.007692</td>\n",
       "      <td>60.290184</td>\n",
       "      <td>3</td>\n",
       "    </tr>\n",
       "    <tr>\n",
       "      <th>2999</th>\n",
       "      <td>286.464286</td>\n",
       "      <td>2058.604545</td>\n",
       "      <td>0.009550</td>\n",
       "      <td>6.493910</td>\n",
       "      <td>11</td>\n",
       "    </tr>\n",
       "  </tbody>\n",
       "</table>\n",
       "<p>3000 rows × 5 columns</p>\n",
       "</div>"
      ],
      "text/plain": [
       "      Administrative_Duration  ProductRelated_Duration  ...  PageValues  Month\n",
       "0                   86.000000               754.916667  ...    0.000000      5\n",
       "1                   35.750000              1173.000000  ...   76.780941     11\n",
       "2                 1449.666667              4876.007712  ...    5.751219     11\n",
       "3                    0.000000               220.333333  ...    0.000000      5\n",
       "4                  129.360000               341.360000  ...   11.275465     11\n",
       "...                       ...                      ...  ...         ...    ...\n",
       "2995                82.200000              5505.401209  ...   10.594232     11\n",
       "2996               195.000000              3408.266667  ...    9.594847     11\n",
       "2997               295.694056               785.474359  ...   34.991667      5\n",
       "2998                33.000000              1720.000000  ...   60.290184      3\n",
       "2999               286.464286              2058.604545  ...    6.493910     11\n",
       "\n",
       "[3000 rows x 5 columns]"
      ]
     },
     "execution_count": 45,
     "metadata": {
      "tags": []
     },
     "output_type": "execute_result"
    }
   ],
   "source": [
    "# Create dataframe with only selected columns\n",
    "\n",
    "selected_dataset = balanced_data[selected].copy()\n",
    "selected_dataset"
   ]
  },
  {
   "cell_type": "code",
   "execution_count": null,
   "metadata": {
    "id": "OL0W1nThR4eZ"
   },
   "outputs": [],
   "source": [
    "#  Apply model on only selected features \n",
    "\n",
    "def selected_classifiers_percentage_split():\n",
    "\n",
    "  print(\"Classification reports for algorithms with selected features: \\n\")\n",
    "\n",
    "  for estimator_name, estimator_object in estimators.items():\n",
    "        \n",
    "        scores = estimator_object.fit(X=X_train_selected, y=y_train)\n",
    "        \n",
    "        # Make predictions on the test set\n",
    "        predicted = estimator_object.predict(X=X_test_selected)\n",
    "        expected = y_test\n",
    "\n",
    "        # Report prediction accuracy\n",
    "        class_report = classification_report(y_true=expected, y_pred=predicted)\n",
    "        print(estimator_name + \": \\n\\t\" + f'Classification accuracy on the training data:={scores.score(X_train_selected, y_train):.2%} ')\n",
    "        print(\"\\t\"+ f'Classification accuracy on the test data:={scores.score(X_test_selected, y_test):.2%} ' +\"\\n\")\n",
    "        print(class_report)"
   ]
  },
  {
   "cell_type": "code",
   "execution_count": null,
   "metadata": {
    "colab": {
     "base_uri": "https://localhost:8080/"
    },
    "id": "kJmrGue0w7xw",
    "outputId": "ee6c563a-fa44-4e07-fdbc-cf915ee66cf5"
   },
   "outputs": [
    {
     "name": "stdout",
     "output_type": "stream",
     "text": [
      "Classification reports for algorithms with selected features: \n",
      "\n",
      "k-Nearest Neighbor: \n",
      "\tClassification accuracy on the training data:=84.62% \n",
      "\tClassification accuracy on the test data:=80.13% \n",
      "\n",
      "              precision    recall  f1-score   support\n",
      "\n",
      "           0       0.79      0.81      0.80       367\n",
      "           1       0.81      0.79      0.80       383\n",
      "\n",
      "    accuracy                           0.80       750\n",
      "   macro avg       0.80      0.80      0.80       750\n",
      "weighted avg       0.80      0.80      0.80       750\n",
      "\n",
      "Support Vector Machine: \n",
      "\tClassification accuracy on the training data:=80.09% \n",
      "\tClassification accuracy on the test data:=81.60% \n",
      "\n",
      "              precision    recall  f1-score   support\n",
      "\n",
      "           0       0.76      0.92      0.83       367\n",
      "           1       0.90      0.72      0.80       383\n",
      "\n",
      "    accuracy                           0.82       750\n",
      "   macro avg       0.83      0.82      0.81       750\n",
      "weighted avg       0.83      0.82      0.81       750\n",
      "\n",
      "Gaussian Naive Bayes: \n",
      "\tClassification accuracy on the training data:=76.49% \n",
      "\tClassification accuracy on the test data:=77.20% \n",
      "\n",
      "              precision    recall  f1-score   support\n",
      "\n",
      "           0       0.72      0.87      0.79       367\n",
      "           1       0.85      0.68      0.75       383\n",
      "\n",
      "    accuracy                           0.77       750\n",
      "   macro avg       0.78      0.77      0.77       750\n",
      "weighted avg       0.78      0.77      0.77       750\n",
      "\n"
     ]
    }
   ],
   "source": [
    "selected_classifiers_percentage_split()"
   ]
  },
  {
   "cell_type": "markdown",
   "metadata": {
    "id": "mI2pKxh4IdEl"
   },
   "source": [
    "**Results:**\n",
    "\n",
    "In classification models, precision represents the number of true positives divided by the total number of true positives and false positives for a given class. When looking at the precision for the model with all features, the weighted average precision for SVM outperformed the other algorithms with a precision of 82% vs. 72% for kNN and 74% for GaussianNB. This result holds true when looking at the results for the selected feature columns. SVM has the highest average weighted precision of 83% vs. 80% for kNN and 78% for GaussianNB. Additionally, it can be seen that the level of precision increased for all three algorithms when feature selection was employed.\n",
    "\n",
    "Accuracy represents the proportion of total predictions that actually end up being correct. When looking at the algorithms trained on all features, the KNN algorithm shows signs of overfitting because it displays a training set accuracy of ~81% and a much lower testing set accuracy of ~72%. However, when looking at the other two algorithms, SVM and Gaussian Naive Bayes, the difference in accuracy when trained on all features appears to be less significant between the training and testing data.\n",
    "\n",
    "When looking at just the selected features, all algorithms performed with improved accuracy on the testing data. Both SVM and Gaussian Naive Bayes performed slightly better on testing set data than training, while KNN performed significantly worse on testing data. However, the gap between training and testing set accuracy for KNN decreased from ~10% to ~5%, indicating an improvement in the overfitting issue.\n",
    "\n",
    "Out of all three algorithms, the SVM algorithm had the highest testing set accuracy when trained on all features or on just the selected features. The KNN algorithm had the second highest testing set accuracy when trained on the selected features. And finally when looking at the weighted average precision, SVM was the most precise, followed by KNN. Therefore, we will employ hyperparameter tuning on both to see if their accuracy rates could improve further."
   ]
  },
  {
   "cell_type": "markdown",
   "metadata": {
    "id": "0EStCAaXmMpV"
   },
   "source": [
    "### **3.4. Model Optimization**\n"
   ]
  },
  {
   "cell_type": "code",
   "execution_count": null,
   "metadata": {
    "colab": {
     "base_uri": "https://localhost:8080/"
    },
    "id": "esPS4rqdDFbs",
    "outputId": "ec3acfbf-8c9e-4825-9284-12527fcca3a0"
   },
   "outputs": [
    {
     "name": "stdout",
     "output_type": "stream",
     "text": [
      "GridSearch on Support Vector Machine Algorithm:\n",
      "Best parameter value:  {'C': 10}\n",
      "Best cross-validation score:  0.8177777777777777\n",
      "Training set score with best parameters: 0.8373333333333334\n",
      "Testing set score with best parameters: 0.8293333333333334\n",
      "\n",
      "GridSearch on K Nearest Neighbors Algorithm:\n",
      "Best parameter value:  {'n_neighbors': 5}\n",
      "Best cross-validation score:   0.7946666666666667\n",
      "Training set score with best parameters: 0.8462222222222222\n",
      "Testing set score with best parameters: 0.8013333333333333\n"
     ]
    }
   ],
   "source": [
    "# GridSearchCV on SVM and KNN algorithms\n",
    "from sklearn.model_selection import GridSearchCV\n",
    "from sklearn.svm import SVC\n",
    "\n",
    "# Tuning to determine best C value for the SVM algorithm\n",
    "parametersSVM = {'C': [1, 10, 100, 1000]}\n",
    "\n",
    "# Fitting GridSearch on the training data for SVM\n",
    "grid_SVM = GridSearchCV(SVC(), parametersSVM, cv=5)\n",
    "grid_SVM.fit(X=X_train_selected, y=y_train)\n",
    "\n",
    "print(\"GridSearch on Support Vector Machine Algorithm:\")\n",
    "print(\"Best parameter value: \", grid_SVM.best_params_)\n",
    "print(\"Best cross-validation score: \", grid_SVM.best_score_)\n",
    "print(\"Training set score with best parameters:\", grid_SVM.score(X_train_selected, y_train))\n",
    "print(\"Testing set score with best parameters:\", grid_SVM.score(X_test_selected, y_test))\n",
    "\n",
    "\n",
    "# Tuning to determine best k value for the KNN algorithm\n",
    "parametersKNN = {\"n_neighbors\":[1, 5, 10, 20, 30, 40, 50]}\n",
    "\n",
    "# Fitting GridSearch on the training data for KNN\n",
    "grid_KNN = GridSearchCV(KNeighborsClassifier(), parametersKNN, cv=5)\n",
    "grid_KNN.fit(X=X_train_selected, y=y_train)\n",
    "\n",
    "print(\"\\nGridSearch on K Nearest Neighbors Algorithm:\")\n",
    "print(\"Best parameter value: \", grid_KNN.best_params_)\n",
    "print(\"Best cross-validation score:  \", grid_KNN.best_score_)\n",
    "print(\"Training set score with best parameters:\", grid_KNN.score(X_train_selected, y_train))\n",
    "print(\"Testing set score with best parameters:\", grid_KNN.score(X_test_selected, y_test))\n",
    "\n"
   ]
  },
  {
   "cell_type": "markdown",
   "metadata": {
    "id": "5KZGfn5yhYzH"
   },
   "source": [
    "**Results:**\n",
    "\n",
    "The SVM model performed the best with percentage-split training in the previous section, therefore we chose to perform hyperparameter tuning on this algorithm first to see if its accuracy could be improved further. Changing the C value affects the regularization of the model, with a larger C value fitting the points in the training set more closely. As such, increasing the C value of the SVM model could lead to improved accuracy on the training and testing sets, but too large of a value could lead to overfitting and sacrifice testing set accuracy. According to the results of the GridSearch, the best value of C was 10.\n",
    "\n",
    "We decided to tune the KNN algorithm as well to see if reducing the model's complexity would increase its testing set accuracy closer to its training set accuracy value. Increasing the value of k, or the number of nearest neighbors, decreases model complexity, so we focused on values of k that were the default value of 5 or larger. However, according to the GridSearch results, the best value of k was indeed 5, so the model did not need hyperparameter tuning.\n",
    "\n",
    "When comparing the results of the two algorithms after GridSearch, SVM outperformed the KNN algorithm, with a slightly higher testing set. This shows how hyperparameter tuning can improve accuracy in an algorithm."
   ]
  },
  {
   "cell_type": "markdown",
   "metadata": {
    "id": "sGyJzfGdmMpW"
   },
   "source": [
    "### **3.5. Model Testing**\n"
   ]
  },
  {
   "cell_type": "code",
   "execution_count": null,
   "metadata": {
    "colab": {
     "base_uri": "https://localhost:8080/"
    },
    "id": "g5Vxu1Esa_1G",
    "outputId": "452120b6-96b7-4460-9ce9-333f3db0c2e9"
   },
   "outputs": [
    {
     "name": "stdout",
     "output_type": "stream",
     "text": [
      "Support Vector Machine Algorithm with Selected Features and Hyperparameter Tuning: \n",
      "\n",
      "\tClassification accuracy on the training data:=83.73% \n",
      "\tClassification accuracy on the test data:=82.93% \n",
      "\n",
      "              precision    recall  f1-score   support\n",
      "\n",
      "           0       0.80      0.87      0.83       367\n",
      "           1       0.86      0.79      0.83       383\n",
      "\n",
      "    accuracy                           0.83       750\n",
      "   macro avg       0.83      0.83      0.83       750\n",
      "weighted avg       0.83      0.83      0.83       750\n",
      "\n"
     ]
    }
   ],
   "source": [
    "# Performing tuned SVM algorithm on testing set data\n",
    "svc = SVC(C = 10)\n",
    "scores = svc.fit(X=X_train_selected, y=y_train)\n",
    "\n",
    "# Make predictions on the test set\n",
    "predicted = svc.predict(X=X_test_selected)\n",
    "expected = y_test\n",
    "\n",
    "# Report prediction accuracy\n",
    "class_report = classification_report(y_true=expected, y_pred=predicted)\n",
    "print(\"Support Vector Machine Algorithm with Selected Features and Hyperparameter Tuning: \\n\\n\\t\" + f'Classification accuracy on the training data:={scores.score(X_train_selected, y_train):.2%} ')\n",
    "print(\"\\t\"+ f'Classification accuracy on the test data:={scores.score(X_test_selected, y_test):.2%} ' +\"\\n\")\n",
    "print(class_report)"
   ]
  },
  {
   "cell_type": "markdown",
   "metadata": {
    "id": "q8331gIhmMpW"
   },
   "source": [
    "<a id=\"4\"></a>\n",
    "<hr style=\"height:2px; border:none; color:black; background-color:black;\">"
   ]
  },
  {
   "cell_type": "markdown",
   "metadata": {
    "id": "s-e4rlMzmMpX"
   },
   "source": [
    "## **4. DISCUSSION**\n",
    "\n",
    "**Summary:**\n",
    "\n",
    "We used data from an online shopping website collected over a period of one year providing session information including details about the date, length, and contents of each session and whether the session ended in a purchase. To preprocess our data, we cleaned our data, dropping empty values, scaled it using StandardScaler, split it into training and testing sets using the percentage-split approach.\n",
    "\n",
    "We then fit the KNeighborsClassifier, SuppportVectorClassifier and Gaussian Naive Bayes algorithms to the training set and compared each model's performance. We evaluated performance using classification accuracy on the training and testing sets, as well metrics from each model's classification report, including precision, recall, f1-score, and support. After applying iterative feature selection, we retrained the three algorithms with the five most informative features of the dataset, as determined by recursive feature elimination. We used the same metrics to evaluate each model with only the selected features and found that the KNeighborsClassifier and SuppportVectorClassifier performed best. Finally, we applied GridSearchCV to tune these two algorithms, further improving the SVM model's performance.\n",
    "\n",
    "**Interpretation:**\n",
    "  \n",
    "  We compared the K Nearest Neighbors, Support Vector Machines, Gaussian Naive Bayes algorithms.\n",
    "  \n",
    "  The SVM and KNN algorithms revealed the best performance with the selected features. The SVM algorithm with a C value of 10 had a classification accuracy of ~84% on the training set data and 83% on the testing set data.The KNN algorithm with a k value of 5 had a classification accuracy of ~85% on the training set data and ~80% on the testing set data.\n",
    "\n",
    "  Due to the high testing set prediction accuracy and similar training set accuracy, the SVM algorithm trained on the selected features with a C value of 10 should be used for the predictive model.\n",
    "\n",
    "  The tuned SVM algorithm performed with high accuracy of similar rates for both training and testing sets, indicating no problems of underfitting or overfitting. With an accuracy of ~83%, this model could be used to predict customers of an online shopping website because this type of classification is relatively low stakes compared to other tasks like medical diagnoses. While the algorithm is not perfect, predicting human behavior is variable and subjective, so an 83% success rate should be sufficient in providing valuable insights for ecommerce websites looking to best manage efforts such as advertisting and website optimization, among other tasks.\n",
    "\n",
    "\n",
    "**Revisiting Initial Questions:**\n",
    "\n",
    "  **Will reducing the number of features produce better predictions than using all 17 of the original feature columns?**\n",
    "\n",
    "After performing iterative feature selection, we found that all three algorithms performed with higher accuracy for the testing data sets.\n",
    "\n",
    "  **Which feature(s) are the most informative for the classification algorithm? In other words, what is the biggest indicator that a user will purchase something off a site?**\n",
    " \n",
    "  According to the iterative feature selection results, the four most informative features in decreasing order of importance were PageValues, ProductRelated_Duration, ExitRates, Administrative_Duration, and ProductRelated. As predicted, these feature columns show overlap with the columns discussed in the interpretation of the heat map in the exploratory analysis.\n",
    "\n",
    "  **Will there be a significant difference in the accuracy of the three chosen classification algorithms?**\n",
    " \n",
    "  The range of prediction accuracy across all three algorithms before iterative feature selection ranged from ~74% to ~82% for the training set and ~72% to ~81% for the testing set. The range of prediction accuracy after iterative feature selection ranged from ~76% to ~85% for the training set and ~77% to ~82% for the testing set. For hyperparameter tuning, we only performed a GridSearch on our top two algorithms. The range of prediction accuracy after the GridSearchCV on KNN and SVM ranged from ~84% to ~85% for the training set and ~80% to ~83% for the testing set.\n",
    "\n",
    "  **Which classification machine learning algorithm is the most accurate in predicting whether a website user makes a purchase?**\n",
    "  \n",
    "  The ML algorithm that was most accurate in predicting user purchases was the tuned SVM algorithm trained on the selected features.\n",
    "\n",
    "**Conclusion:**\n",
    "  \n",
    "  While our exploration of different ML algorithms on this dataset led to a model with significantly improved accuracy, there are still opportunities for future exploration and improvement. The original dataset was imbalanced, so getting more data points for customers who make a purchase would increase our dataset size while maintaining balance. While this exploration was focused around classifying website visitors as customers or not, we could apply a regression algorithm on a similar dataset focusing on how much a user spends based on their activity on the website. This could still capture our original questions of whether or not someone will spend money, but with the added insight of how much they spend so that companies can create tiers of users. We also looked at a project on a similar dataset that had success with a random forest algorithm, so we could try training with this algorithm on our dataset to see if the random forest could reveal better performance than the SVM algorithm.\n",
    "\n",
    "\n"
   ]
  },
  {
   "cell_type": "markdown",
   "metadata": {
    "id": "knQQYFO7mMpY"
   },
   "source": [
    "<a id=\"5\"></a>\n",
    "<hr style=\"height:2px; border:none; color:black; background-color:black;\">"
   ]
  },
  {
   "cell_type": "markdown",
   "metadata": {
    "id": "-PtRRbSzmMpY"
   },
   "source": [
    "### CONTRIBUTIONS\n",
    "We worked on this project synchronously through Zoom. As such, our three team members collaborated equally on all parts of the code, taking turns writing, researching, and editing."
   ]
  },
  {
   "cell_type": "code",
   "execution_count": null,
   "metadata": {
    "id": "yieR6QN6_1wR"
   },
   "outputs": [],
   "source": []
  }
 ],
 "metadata": {
  "colab": {
   "collapsed_sections": [],
   "name": "DS3000_FP4_Group06.ipynb",
   "provenance": []
  },
  "kernelspec": {
   "display_name": "Python 3",
   "language": "python",
   "name": "python3"
  },
  "language_info": {
   "codemirror_mode": {
    "name": "ipython",
    "version": 3
   },
   "file_extension": ".py",
   "mimetype": "text/x-python",
   "name": "python",
   "nbconvert_exporter": "python",
   "pygments_lexer": "ipython3",
   "version": "3.8.3"
  }
 },
 "nbformat": 4,
 "nbformat_minor": 1
}
